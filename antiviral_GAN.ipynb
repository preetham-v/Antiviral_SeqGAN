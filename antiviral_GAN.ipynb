{
  "nbformat": 4,
  "nbformat_minor": 0,
  "metadata": {
    "colab": {
      "name": "antiviral_GAN.ipynb",
      "provenance": [],
      "collapsed_sections": [
        "yAb5ZeeIA4e0"
      ],
      "toc_visible": true,
      "authorship_tag": "ABX9TyNd4iL+tx9U7hJ+XDqHHp15",
      "include_colab_link": true
    },
    "kernelspec": {
      "name": "python3",
      "display_name": "Python 3"
    }
  },
  "cells": [
    {
      "cell_type": "markdown",
      "metadata": {
        "id": "view-in-github",
        "colab_type": "text"
      },
      "source": [
        "<a href=\"https://colab.research.google.com/github/preetham-v/antiviralGAN/blob/master/antiviral_GAN.ipynb\" target=\"_parent\"><img src=\"https://colab.research.google.com/assets/colab-badge.svg\" alt=\"Open In Colab\"/></a>"
      ]
    },
    {
      "cell_type": "markdown",
      "metadata": {
        "id": "yAb5ZeeIA4e0",
        "colab_type": "text"
      },
      "source": [
        "##SimpleGAN "
      ]
    },
    {
      "cell_type": "code",
      "metadata": {
        "id": "9UvVxFsCD9mT",
        "colab_type": "code",
        "cellView": "form",
        "colab": {}
      },
      "source": [
        "#@title\n",
        "import numpy as np\n",
        "import pandas as pd\n",
        "import torch\n",
        "from torch import nn\n",
        "import torch.optim as optim\n",
        "import random\n",
        "import matplotlib.pyplot as plt\n",
        "\n",
        "%matplotlib inline"
      ],
      "execution_count": null,
      "outputs": []
    },
    {
      "cell_type": "code",
      "metadata": {
        "id": "VwA9cE0NHuh_",
        "colab_type": "code",
        "colab": {}
      },
      "source": [
        "url = 'https://raw.githubusercontent.com/preetham-v/antiviralGAN/master/AVPdb_data.csv'\n",
        "\n",
        "data = pd.read_csv(url, skiprows = 1, usecols = range(3), header=None, names=['ID','seq','len'])"
      ],
      "execution_count": null,
      "outputs": []
    },
    {
      "cell_type": "code",
      "metadata": {
        "id": "fPnBUMVMJEK8",
        "colab_type": "code",
        "colab": {
          "base_uri": "https://localhost:8080/",
          "height": 35
        },
        "outputId": "720e239a-2934-4ed8-c4d9-8e397b36c85a"
      },
      "source": [
        "all_sequences = np.asarray(data['seq'])\n",
        "print(all_sequences[:5])"
      ],
      "execution_count": null,
      "outputs": [
        {
          "output_type": "stream",
          "text": [
            "['PYVGSGLYRR' 'SMIENLEYM' 'ECRSTSYAGAVVNDL' 'STSYAGAVVNDL' 'YAGAVVNDL']\n"
          ],
          "name": "stdout"
        }
      ]
    },
    {
      "cell_type": "code",
      "metadata": {
        "id": "yQinJOXdHrU-",
        "colab_type": "code",
        "colab": {}
      },
      "source": [
        "#Dictionary of 20 canonical amino acids\n",
        "CHARACTER_DICT = set([\n",
        "    u'A', u'C', u'E', u'D', u'G', u'F', u'I', u'H', u'K',\n",
        "    u'M', u'L', u'N', u'Q', u'P', u'S', u'R', u'T', u'W',\n",
        "    u'V', u'Y']\n",
        ")\n",
        "\n",
        "CHARACTER_TO_INDEX = {\n",
        "    character: i\n",
        "    for i, character in enumerate(CHARACTER_DICT)\n",
        "}\n",
        "\n",
        "INDEX_TO_CHARACTER = {\n",
        "    CHARACTER_TO_INDEX[c]: c\n",
        "    for c in CHARACTER_TO_INDEX\n",
        "}"
      ],
      "execution_count": null,
      "outputs": []
    },
    {
      "cell_type": "code",
      "metadata": {
        "id": "Eqm5jJ_NG1pG",
        "colab_type": "code",
        "colab": {}
      },
      "source": [
        "MAX_SEQUENCE_LENGTH = 18 #Problem Statement requires < 2000 kDa, Avg. amino acid = 110 kDa\n",
        "num_amino_acids = len(CHARACTER_DICT) "
      ],
      "execution_count": null,
      "outputs": []
    },
    {
      "cell_type": "code",
      "metadata": {
        "id": "5qCHSqHfIOg9",
        "colab_type": "code",
        "colab": {}
      },
      "source": [
        "def sequence_to_vector(sequence, embed_dict=None):\n",
        "    if embed_dict==None:\n",
        "        default = np.zeros([MAX_SEQUENCE_LENGTH, len(CHARACTER_TO_INDEX)+1])\n",
        "        default[:,len(CHARACTER_TO_INDEX)] = 1\n",
        "        for i, character in enumerate(sequence[:MAX_SEQUENCE_LENGTH]):\n",
        "            default[i][CHARACTER_TO_INDEX[character]] = 1\n",
        "            default[i][len(CHARACTER_TO_INDEX)] = 0\n",
        "        return default\n",
        "    else:\n",
        "        default = np.zeros([MAX_SEQUENCE_LENGTH,len(embed_dict['A'])])\n",
        "        for i, character in enumerate(sequence[:MAX_SEQUENCE_LENGTH]):\n",
        "            for k,val in enumerate(embed_dict[character]):\n",
        "                default[i,k] = val\n",
        "        return default"
      ],
      "execution_count": null,
      "outputs": []
    },
    {
      "cell_type": "code",
      "metadata": {
        "colab_type": "code",
        "id": "KFAejGUmdnQz",
        "colab": {}
      },
      "source": [
        "def vector_to_sequence(vector):\n",
        "    seq = ''\n",
        "\n",
        "    for i in range(18):\n",
        "        arg = np.argmax(vector[i])\n",
        "        if arg == 20:\n",
        "          seq += 'X'\n",
        "        else:\n",
        "          seq += INDEX_TO_CHARACTER[arg]\n",
        "    return seq\n"
      ],
      "execution_count": null,
      "outputs": []
    },
    {
      "cell_type": "code",
      "metadata": {
        "id": "oXYPLrCaQnXk",
        "colab_type": "code",
        "colab": {}
      },
      "source": [
        "class Generator(nn.Module):\n",
        "    def __init__(self, input_length):\n",
        "        \"\"\"A generator for mapping a random peptide to an antiviral peptide\n",
        "        Args:\n",
        "            input_length (int array): max_length * number_of_characters \n",
        "                                      (\"noise vector\")\n",
        "            layers (List[int]): A list of layer widths including output width\n",
        "            output_activation: torch activation function or None\n",
        "        \"\"\"\n",
        "        super(Generator, self).__init__()\n",
        "        self.linear1 = nn.Linear(input_length, 40)\n",
        "        self.leaky_relu = nn.LeakyReLU()\n",
        "        self.relu = nn.ReLU()\n",
        "        self.linear2 = nn.Linear(40, 120)\n",
        "        self.linear3 = nn.Linear(120, 240)\n",
        "        self.linear4 = nn.Linear(240, 378)\n",
        "        self.output_activation = nn.LeakyReLU()\n",
        "\n",
        "    def forward(self, input_tensor):\n",
        "        \"\"\"Forward pass; map latent vectors to samples.\"\"\"\n",
        "        intermediate = self.linear1(input_tensor)\n",
        "        intermediate = self.leaky_relu(intermediate)\n",
        "        intermediate = self.linear2(intermediate)\n",
        "        intermediate = self.leaky_relu(intermediate)\n",
        "        intermediate = self.linear3(intermediate)\n",
        "        intermediate = self.leaky_relu(intermediate)\n",
        "        intermediate = self.linear4(intermediate)\n",
        "        intermediate = self.output_activation(intermediate)\n",
        "\n",
        "        view = intermediate.view(-1, 18)\n",
        "        (view == view.max(dim=1, keepdim=True)[0]).view_as(intermediate).int()\n",
        "        \n",
        "        return intermediate"
      ],
      "execution_count": null,
      "outputs": []
    },
    {
      "cell_type": "code",
      "metadata": {
        "id": "JN3i4Xoq9mqm",
        "colab_type": "code",
        "colab": {}
      },
      "source": [
        "class Discriminator(nn.Module):\n",
        "    def __init__(self, input_dim, layers):\n",
        "        \"\"\"A discriminator for discerning real from generated samples.\n",
        "        params:\n",
        "            input_dim (int): width of the input\n",
        "            layers (List[int]): A list of layer widths including output width\n",
        "        Output activation is Sigmoid.\n",
        "        \"\"\"\n",
        "        super(Discriminator, self).__init__()\n",
        "        self.input_dim = input_dim\n",
        "        self._init_layers(layers)\n",
        "\n",
        "    def _init_layers(self, layers):\n",
        "        \"\"\"Initialize the layers and store as self.module_list.\"\"\"\n",
        "        self.module_list = nn.ModuleList()\n",
        "        last_layer = self.input_dim\n",
        "        for index, width in enumerate(layers):\n",
        "            self.module_list.append(nn.Linear(last_layer, width))\n",
        "            last_layer = width\n",
        "            if index + 1 != len(layers):\n",
        "                self.module_list.append(nn.LeakyReLU())\n",
        "            else:\n",
        "                self.module_list.append(nn.Sigmoid())\n",
        "\n",
        "    def forward(self, input_tensor):\n",
        "        \"\"\"Forward pass; map samples to confidence they are real [0, 1].\"\"\"\n",
        "        intermediate = input_tensor\n",
        "        for layer in self.module_list:\n",
        "            intermediate = layer(intermediate)\n",
        "        return intermediate"
      ],
      "execution_count": null,
      "outputs": []
    },
    {
      "cell_type": "code",
      "metadata": {
        "id": "gXgni6k90HhM",
        "colab_type": "code",
        "colab": {}
      },
      "source": [
        "all_inputs = []\n",
        "for j in range(len(all_sequences)):\n",
        "  embedding = sequence_to_vector(all_sequences[j])\n",
        "  all_inputs.append(np.reshape(embedding,378))"
      ],
      "execution_count": null,
      "outputs": []
    },
    {
      "cell_type": "code",
      "metadata": {
        "id": "cIaAh98vmoNP",
        "colab_type": "code",
        "colab": {}
      },
      "source": [
        "def data_function(batch_size, iteration):\n",
        "  input_array = all_inputs[batch_size*iteration : batch_size*(iteration+1)]\n",
        "  return input_array\n",
        "\n",
        "def noise_function(batch_size):\n",
        "  input_array = np.random.randn(batch_size,1,20)\n",
        "    # a = np.zeros([18,21])\n",
        "    # for i in range(18):\n",
        "    #   x = np.random.randint(21)\n",
        "    #   a[i][x] = 1\n",
        "    # input_array.append(np.reshape(a,378))\n",
        "  \n",
        "  return input_array"
      ],
      "execution_count": null,
      "outputs": []
    },
    {
      "cell_type": "code",
      "metadata": {
        "id": "gphmNsOt-ikc",
        "colab_type": "code",
        "cellView": "form",
        "colab": {}
      },
      "source": [
        "#@title\n",
        "class VanillaGAN():\n",
        "    def __init__(self, generator, discriminator, noise_fn, data_fn,\n",
        "                 batch_size=32, device='cpu', lr_d=1e-3, lr_g=2e-4):\n",
        "        \"\"\"A GAN class for holding and training a generator and discriminator\n",
        "        Args:\n",
        "            generator: a Ganerator network\n",
        "            discriminator: A Discriminator network\n",
        "            noise_fn: function f(num: int) -> pytorch tensor, (latent vectors)\n",
        "            data_fn: function f(num: int) -> pytorch tensor, (real samples)\n",
        "            batch_size: training batch size\n",
        "            device: cpu or CUDA\n",
        "            lr_d: learning rate for the discriminator\n",
        "            lr_g: learning rate for the generator\n",
        "        \"\"\"\n",
        "        self.generator = generator\n",
        "        self.generator = self.generator.to(device)\n",
        "        self.discriminator = discriminator\n",
        "        self.discriminator = self.discriminator.to(device)\n",
        "        self.noise_fn = noise_fn\n",
        "        self.data_fn = data_fn\n",
        "        self.batch_size = batch_size\n",
        "        self.device = device\n",
        "        self.criterion = nn.BCELoss()\n",
        "        self.optim_d = optim.Adam(discriminator.parameters(),\n",
        "                                  lr=lr_d, betas=(0.5, 0.999))\n",
        "        self.optim_g = optim.Adam(generator.parameters(),\n",
        "                                  lr=lr_g, betas=(0.5, 0.999))\n",
        "        self.target_ones = torch.ones((batch_size, 1)).to(device)\n",
        "        self.target_zeros = torch.zeros((batch_size, 1)).to(device)\n",
        "\n",
        "    def generate_samples(self, latent_vec=None, num=None):\n",
        "        \"\"\"Sample from the generator.\n",
        "        Args:\n",
        "            latent_vec: A pytorch latent vector or None\n",
        "            num: The number of samples to generate if latent_vec is None\n",
        "        If latent_vec and num are None then us self.batch_size random latent\n",
        "        vectors.\n",
        "        \"\"\"\n",
        "        num = self.batch_size if num is None else num\n",
        "        latent_vec = self.noise_fn(num) if latent_vec is None else latent_vec\n",
        "        with torch.no_grad():\n",
        "            samples = self.generator(latent_vec)\n",
        "        return samples\n",
        "\n",
        "    def train_step_generator(self):\n",
        "        \"\"\"Train the generator one step and return the loss.\"\"\"\n",
        "        self.generator.zero_grad()\n",
        "\n",
        "        latent_vec = self.noise_fn(self.batch_size)\n",
        "        generated = self.generator(latent_vec)\n",
        "        classifications = self.discriminator(generated)\n",
        "        loss = self.criterion(classifications, self.target_ones)\n",
        "        loss.backward()\n",
        "        self.optim_g.step()\n",
        "        return loss.item()\n",
        "\n",
        "    def train_step_discriminator(self):\n",
        "        \"\"\"Train the discriminator one step and return the losses.\"\"\"\n",
        "        self.discriminator.zero_grad()\n",
        "\n",
        "        # real samples\n",
        "        real_samples = self.data_fn(self.batch_size)\n",
        "        pred_real = self.discriminator(real_samples)\n",
        "        loss_real = self.criterion(pred_real, self.target_ones)\n",
        "\n",
        "        # generated samples\n",
        "        latent_vec = self.noise_fn(self.batch_size)\n",
        "        with torch.no_grad():\n",
        "            fake_samples = self.generator(latent_vec)\n",
        "        pred_fake = self.discriminator(fake_samples)\n",
        "        loss_fake = self.criterion(pred_fake, self.target_zeros)\n",
        "\n",
        "        # combine\n",
        "        loss = (loss_real + loss_fake) / 2\n",
        "        loss.backward()\n",
        "        self.optim_d.step()\n",
        "        return loss_real.item(), loss_fake.item()\n",
        "\n",
        "    def train_step(self):\n",
        "        \"\"\"Train both networks and return the losses.\"\"\"\n",
        "        loss_d = self.train_step_discriminator()\n",
        "        loss_g = self.train_step_generator()\n",
        "        return loss_g, loss_d"
      ],
      "execution_count": null,
      "outputs": []
    },
    {
      "cell_type": "code",
      "metadata": {
        "id": "UC7m2z-iXxGI",
        "colab_type": "code",
        "colab": {}
      },
      "source": [
        "def simpleGAN(generator_func, discriminator_func, \n",
        "              batch_size: int = 25, epochs: int = 5, \n",
        "              max_data: int = len(all_sequences), print_every: int = 10, ):\n",
        "\n",
        "  #Array to monitor losses\n",
        "  loss_g = []\n",
        "  loss_dreal = []\n",
        "  loss_dfake = []\n",
        "  outputs = []\n",
        "  input_length = 20\n",
        "\n",
        "  # Models\n",
        "  generator = generator_func\n",
        "  discriminator = discriminator_func\n",
        "\n",
        "  # Optimizers\n",
        "  generator_optimizer = torch.optim.Adam(generator.parameters(), lr=0.01)\n",
        "  discriminator_optimizer = torch.optim.Adam(discriminator.parameters(), \n",
        "                                          lr=0.001)\n",
        "\n",
        "  # loss\n",
        "  loss = nn.BCELoss()\n",
        "\n",
        "  for i in range(epochs):\n",
        "\n",
        "    for j in range(int(max_data/batch_size)):\n",
        "\n",
        "      # zero the gradients on each iteration\n",
        "      generator_optimizer.zero_grad()\n",
        "\n",
        "\n",
        "      # Create noisy input for generator\n",
        "      # Need float type instead of int\n",
        "      noise = noise_function(batch_size)\n",
        "      noise_data = torch.tensor(noise).float()\n",
        "      generated_data = generator(noise_data)  \n",
        "\n",
        "      # Generate examples of real data\n",
        "      true_data = data_function(batch_size, j)\n",
        "      true_labels = torch.tensor(np.ones(batch_size)).float()\n",
        "      true_data = torch.tensor(true_data).float()\n",
        "\n",
        "      # Train the generator\n",
        "      # We invert the labels here and don't train the discriminator because we want the generator\n",
        "      # to make things the discriminator classifies as true.\n",
        "      generator_discriminator_out = discriminator(generated_data)\n",
        "      generator_loss = loss(generator_discriminator_out, true_labels)\n",
        "      generator_loss.backward()\n",
        "      generator_optimizer.step()\n",
        "\n",
        "      # Train the discriminator on the true/generated data\n",
        "      discriminator_optimizer.zero_grad()\n",
        "      true_discriminator_out = discriminator(true_data)\n",
        "      true_discriminator_loss = loss(true_discriminator_out, true_labels)\n",
        "\n",
        "      # add .detach() here think about this\n",
        "      generator_discriminator_out = discriminator(generated_data.detach())\n",
        "      generator_discriminator_loss = loss(generator_discriminator_out, torch.zeros(batch_size))\n",
        "      discriminator_loss = (true_discriminator_loss + generator_discriminator_loss) / 2   \n",
        "      discriminator_loss.backward()\n",
        "      discriminator_optimizer.step()\n",
        "\n",
        "      loss_g.append(generator_loss.detach().numpy())\n",
        "      loss_dreal.append(true_discriminator_loss.detach().numpy())\n",
        "      loss_dfake.append(generator_discriminator_loss.detach().numpy())\n",
        "  \n",
        "\n",
        "    \n",
        "    generated_data = generated_data.detach().numpy()\n",
        "#      x = random.randint(0,len(generated_data))\n",
        "    sequences = set()\n",
        "    \n",
        "    for j in range(batch_size):\n",
        "      sequence = np.reshape(generated_data[j], [18,21])\n",
        "      sequences.add(vector_to_sequence(sequence))\n",
        "\n",
        "    seq_update = list(sequences)\n",
        "    outputs.append(seq_update)\n",
        "\n",
        "    if i % print_every == 0:\n",
        "\n",
        "      print(\"Currently at epoch: \" + str(i))\n",
        "\n",
        "  return loss_g, loss_dreal, loss_dfake, outputs\n",
        "\n"
      ],
      "execution_count": null,
      "outputs": []
    },
    {
      "cell_type": "code",
      "metadata": {
        "id": "7jUxoWZeFFy5",
        "colab_type": "code",
        "cellView": "form",
        "colab": {}
      },
      "source": [
        "#@title Default title text\n",
        "def main():\n",
        "    from time import time\n",
        "    epochs = 600\n",
        "    batches = 10\n",
        "    generator = Generator(360)\n",
        "    discriminator = Discriminator(1, [64, 32, 1])\n",
        "    noise_fn = noise_function()\n",
        "    data_fn = data_function()\n",
        "    gan = VanillaGAN(generator, discriminator, noise_fn, data_fn, device='cpu')\n",
        "    loss_g, loss_d_real, loss_d_fake = [], [], []\n",
        "    start = time()\n",
        "    for epoch in range(epochs):\n",
        "        loss_g_running, loss_d_real_running, loss_d_fake_running = 0, 0, 0\n",
        "        for batch in range(batches):\n",
        "            lg_, (ldr_, ldf_) = gan.train_step()\n",
        "            loss_g_running += lg_\n",
        "            loss_d_real_running += ldr_\n",
        "            loss_d_fake_running += ldf_\n",
        "        loss_g.append(loss_g_running / batches)\n",
        "        loss_d_real.append(loss_d_real_running / batches)\n",
        "        loss_d_fake.append(loss_d_fake_running / batches)\n",
        "        print(f\"Epoch {epoch+1}/{epochs} ({int(time() - start)}s):\"\n",
        "              f\" G={loss_g[-1]:.3f},\"\n",
        "              f\" Dr={loss_d_real[-1]:.3f},\"\n",
        "              f\" Df={loss_d_fake[-1]:.3f}\")\n",
        "\n",
        "\n",
        "if __name__ == \"__main__\":\n",
        "    main()"
      ],
      "execution_count": null,
      "outputs": []
    },
    {
      "cell_type": "code",
      "metadata": {
        "id": "8v5ReVWzaZeJ",
        "colab_type": "code",
        "colab": {
          "base_uri": "https://localhost:8080/",
          "height": 1000
        },
        "outputId": "5bdee817-08e5-4357-ee1b-36c0cf57527e"
      },
      "source": [
        "import time\n",
        "\n",
        "torch.manual_seed(1104)\n",
        "\n",
        "start_time = time.time()\n",
        "\n",
        "generator = Generator(20)\n",
        "discriminator = Discriminator(378, [32, 16, 1])  \n",
        "\n",
        "losses = simpleGAN(generator, discriminator, \n",
        "                   batch_size=2059, epochs=40000, print_every = 500)\n",
        "\n",
        "outputs = losses[3]\n",
        "\n",
        "print(\"Program took\", time.time() - start_time, \"to run\")"
      ],
      "execution_count": null,
      "outputs": [
        {
          "output_type": "stream",
          "text": [
            "/usr/local/lib/python3.6/dist-packages/torch/nn/modules/loss.py:529: UserWarning: Using a target size (torch.Size([2059])) that is different to the input size (torch.Size([2059, 1, 1])) is deprecated. Please ensure they have the same size.\n",
            "  return F.binary_cross_entropy(input, target, weight=self.weight, reduction=self.reduction)\n",
            "/usr/local/lib/python3.6/dist-packages/torch/nn/modules/loss.py:529: UserWarning: Using a target size (torch.Size([2059])) that is different to the input size (torch.Size([2059, 1])) is deprecated. Please ensure they have the same size.\n",
            "  return F.binary_cross_entropy(input, target, weight=self.weight, reduction=self.reduction)\n"
          ],
          "name": "stderr"
        },
        {
          "output_type": "stream",
          "text": [
            "Currently at epoch: 0\n",
            "Currently at epoch: 500\n",
            "Currently at epoch: 1000\n",
            "Currently at epoch: 1500\n",
            "Currently at epoch: 2000\n",
            "Currently at epoch: 2500\n",
            "Currently at epoch: 3000\n",
            "Currently at epoch: 3500\n",
            "Currently at epoch: 4000\n",
            "Currently at epoch: 4500\n",
            "Currently at epoch: 5000\n",
            "Currently at epoch: 5500\n",
            "Currently at epoch: 6000\n",
            "Currently at epoch: 6500\n",
            "Currently at epoch: 7000\n",
            "Currently at epoch: 7500\n",
            "Currently at epoch: 8000\n",
            "Currently at epoch: 8500\n",
            "Currently at epoch: 9000\n",
            "Currently at epoch: 9500\n",
            "Currently at epoch: 10000\n",
            "Currently at epoch: 10500\n",
            "Currently at epoch: 11000\n",
            "Currently at epoch: 11500\n",
            "Currently at epoch: 12000\n",
            "Currently at epoch: 12500\n",
            "Currently at epoch: 13000\n",
            "Currently at epoch: 13500\n",
            "Currently at epoch: 14000\n",
            "Currently at epoch: 14500\n",
            "Currently at epoch: 15000\n",
            "Currently at epoch: 15500\n",
            "Currently at epoch: 16000\n",
            "Currently at epoch: 16500\n",
            "Currently at epoch: 17000\n",
            "Currently at epoch: 17500\n",
            "Currently at epoch: 18000\n",
            "Currently at epoch: 18500\n",
            "Currently at epoch: 19000\n",
            "Currently at epoch: 19500\n",
            "Currently at epoch: 20000\n",
            "Currently at epoch: 20500\n",
            "Currently at epoch: 21000\n",
            "Currently at epoch: 21500\n",
            "Currently at epoch: 22000\n",
            "Currently at epoch: 22500\n",
            "Currently at epoch: 23000\n",
            "Currently at epoch: 23500\n",
            "Currently at epoch: 24000\n",
            "Currently at epoch: 24500\n",
            "Currently at epoch: 25000\n",
            "Currently at epoch: 25500\n",
            "Currently at epoch: 26000\n",
            "Currently at epoch: 26500\n",
            "Currently at epoch: 27000\n",
            "Currently at epoch: 27500\n",
            "Currently at epoch: 28000\n",
            "Currently at epoch: 28500\n",
            "Currently at epoch: 29000\n",
            "Currently at epoch: 29500\n",
            "Currently at epoch: 30000\n",
            "Currently at epoch: 30500\n",
            "Currently at epoch: 31000\n",
            "Currently at epoch: 31500\n",
            "Currently at epoch: 32000\n",
            "Currently at epoch: 32500\n",
            "Currently at epoch: 33000\n",
            "Currently at epoch: 33500\n",
            "Currently at epoch: 34000\n",
            "Currently at epoch: 34500\n",
            "Currently at epoch: 35000\n",
            "Currently at epoch: 35500\n",
            "Currently at epoch: 36000\n",
            "Currently at epoch: 36500\n",
            "Currently at epoch: 37000\n",
            "Currently at epoch: 37500\n",
            "Currently at epoch: 38000\n",
            "Currently at epoch: 38500\n",
            "Currently at epoch: 39000\n",
            "Currently at epoch: 39500\n",
            "Program took 9335.723873376846 to run\n"
          ],
          "name": "stdout"
        }
      ]
    },
    {
      "cell_type": "code",
      "metadata": {
        "id": "Drm_MN96pPUJ",
        "colab_type": "code",
        "colab": {
          "base_uri": "https://localhost:8080/",
          "height": 297
        },
        "outputId": "433b5667-0ac0-4733-f22f-23ac946d630b"
      },
      "source": [
        "loss_g = losses[0]\n",
        "loss_dreal = losses[1]\n",
        "loss_dfake = losses[2]\n",
        "#plt.plot(loss_g, label = 'generator')\n",
        "#plt.plot(loss_dreal, label ='discriminator_Real')\n",
        "plt.plot(loss_dfake, label = 'discrimininator_Fake')\n",
        "plt.xlabel('Update')\n",
        "plt.ylabel('Loss')\n",
        "\n",
        "plt.legend()"
      ],
      "execution_count": null,
      "outputs": [
        {
          "output_type": "execute_result",
          "data": {
            "text/plain": [
              "<matplotlib.legend.Legend at 0x7ff85fe71d30>"
            ]
          },
          "metadata": {
            "tags": []
          },
          "execution_count": 28
        },
        {
          "output_type": "display_data",
          "data": {
            "image/png": "[encoded data removed]",
            "text/plain": [
              "<Figure size 432x288 with 1 Axes>"
            ]
          },
          "metadata": {
            "tags": [],
            "needs_background": "light"
          }
        }
      ]
    },
    {
      "cell_type": "code",
      "metadata": {
        "id": "ZEjvvIz6kBNX",
        "colab_type": "code",
        "colab": {
          "base_uri": "https://localhost:8080/",
          "height": 339
        },
        "outputId": "389c09c9-5b6a-4c19-be88-848033f67a7d"
      },
      "source": [
        "from google.colab import output\n",
        "output.eval_js('new Audio(\"https://upload.wikimedia.org/wikipedia/commons/0/05/Beep-09.ogg\").play()')"
      ],
      "execution_count": null,
      "outputs": [
        {
          "output_type": "error",
          "ename": "KeyboardInterrupt",
          "evalue": "ignored",
          "traceback": [
            "\u001b[0;31m---------------------------------------------------------------------------\u001b[0m",
            "\u001b[0;31mKeyboardInterrupt\u001b[0m                         Traceback (most recent call last)",
            "\u001b[0;32m<ipython-input-23-c5b7e396cfc9>\u001b[0m in \u001b[0;36m<module>\u001b[0;34m()\u001b[0m\n\u001b[1;32m      1\u001b[0m \u001b[0;32mfrom\u001b[0m \u001b[0mgoogle\u001b[0m\u001b[0;34m.\u001b[0m\u001b[0mcolab\u001b[0m \u001b[0;32mimport\u001b[0m \u001b[0moutput\u001b[0m\u001b[0;34m\u001b[0m\u001b[0;34m\u001b[0m\u001b[0m\n\u001b[0;32m----> 2\u001b[0;31m \u001b[0moutput\u001b[0m\u001b[0;34m.\u001b[0m\u001b[0meval_js\u001b[0m\u001b[0;34m(\u001b[0m\u001b[0;34m'new Audio(\"https://upload.wikimedia.org/wikipedia/commons/0/05/Beep-09.ogg\").play()'\u001b[0m\u001b[0;34m)\u001b[0m\u001b[0;34m\u001b[0m\u001b[0;34m\u001b[0m\u001b[0m\n\u001b[0m",
            "\u001b[0;32m/usr/local/lib/python3.6/dist-packages/google/colab/output/_js.py\u001b[0m in \u001b[0;36meval_js\u001b[0;34m(script, ignore_result)\u001b[0m\n\u001b[1;32m     37\u001b[0m   \u001b[0;32mif\u001b[0m \u001b[0mignore_result\u001b[0m\u001b[0;34m:\u001b[0m\u001b[0;34m\u001b[0m\u001b[0;34m\u001b[0m\u001b[0m\n\u001b[1;32m     38\u001b[0m     \u001b[0;32mreturn\u001b[0m\u001b[0;34m\u001b[0m\u001b[0;34m\u001b[0m\u001b[0m\n\u001b[0;32m---> 39\u001b[0;31m   \u001b[0;32mreturn\u001b[0m \u001b[0m_message\u001b[0m\u001b[0;34m.\u001b[0m\u001b[0mread_reply_from_input\u001b[0m\u001b[0;34m(\u001b[0m\u001b[0mrequest_id\u001b[0m\u001b[0;34m)\u001b[0m\u001b[0;34m\u001b[0m\u001b[0;34m\u001b[0m\u001b[0m\n\u001b[0m\u001b[1;32m     40\u001b[0m \u001b[0;34m\u001b[0m\u001b[0m\n\u001b[1;32m     41\u001b[0m \u001b[0;34m\u001b[0m\u001b[0m\n",
            "\u001b[0;32m/usr/local/lib/python3.6/dist-packages/google/colab/_message.py\u001b[0m in \u001b[0;36mread_reply_from_input\u001b[0;34m(message_id, timeout_sec)\u001b[0m\n\u001b[1;32m     99\u001b[0m     \u001b[0mreply\u001b[0m \u001b[0;34m=\u001b[0m \u001b[0m_read_next_input_message\u001b[0m\u001b[0;34m(\u001b[0m\u001b[0;34m)\u001b[0m\u001b[0;34m\u001b[0m\u001b[0;34m\u001b[0m\u001b[0m\n\u001b[1;32m    100\u001b[0m     \u001b[0;32mif\u001b[0m \u001b[0mreply\u001b[0m \u001b[0;34m==\u001b[0m \u001b[0m_NOT_READY\u001b[0m \u001b[0;32mor\u001b[0m \u001b[0;32mnot\u001b[0m \u001b[0misinstance\u001b[0m\u001b[0;34m(\u001b[0m\u001b[0mreply\u001b[0m\u001b[0;34m,\u001b[0m \u001b[0mdict\u001b[0m\u001b[0;34m)\u001b[0m\u001b[0;34m:\u001b[0m\u001b[0;34m\u001b[0m\u001b[0;34m\u001b[0m\u001b[0m\n\u001b[0;32m--> 101\u001b[0;31m       \u001b[0mtime\u001b[0m\u001b[0;34m.\u001b[0m\u001b[0msleep\u001b[0m\u001b[0;34m(\u001b[0m\u001b[0;36m0.025\u001b[0m\u001b[0;34m)\u001b[0m\u001b[0;34m\u001b[0m\u001b[0;34m\u001b[0m\u001b[0m\n\u001b[0m\u001b[1;32m    102\u001b[0m       \u001b[0;32mcontinue\u001b[0m\u001b[0;34m\u001b[0m\u001b[0;34m\u001b[0m\u001b[0m\n\u001b[1;32m    103\u001b[0m     if (reply.get('type') == 'colab_reply' and\n",
            "\u001b[0;31mKeyboardInterrupt\u001b[0m: "
          ]
        }
      ]
    },
    {
      "cell_type": "code",
      "metadata": {
        "id": "fYlsIG8LP8rs",
        "colab_type": "code",
        "colab": {}
      },
      "source": [
        "with open('outputs.txt', 'w') as f:\n",
        "    for item in outputs:\n",
        "        f.write(\"%s\\n\" % item)"
      ],
      "execution_count": null,
      "outputs": []
    },
    {
      "cell_type": "code",
      "metadata": {
        "id": "Mmh3YVl-dUdx",
        "colab_type": "code",
        "colab": {
          "base_uri": "https://localhost:8080/",
          "height": 17
        },
        "outputId": "f770d220-dbc5-46c1-dbb5-45f9b4abdd68"
      },
      "source": [
        "from google.colab import files\n",
        "files.download('outputs.txt')"
      ],
      "execution_count": null,
      "outputs": [
        {
          "output_type": "display_data",
          "data": {
            "application/javascript": [
              "\n",
              "    async function download(id, filename, size) {\n",
              "      if (!google.colab.kernel.accessAllowed) {\n",
              "        return;\n",
              "      }\n",
              "      const div = document.createElement('div');\n",
              "      const label = document.createElement('label');\n",
              "      label.textContent = `Downloading \"${filename}\": `;\n",
              "      div.appendChild(label);\n",
              "      const progress = document.createElement('progress');\n",
              "      progress.max = size;\n",
              "      div.appendChild(progress);\n",
              "      document.body.appendChild(div);\n",
              "\n",
              "      const buffers = [];\n",
              "      let downloaded = 0;\n",
              "\n",
              "      const channel = await google.colab.kernel.comms.open(id);\n",
              "      // Send a message to notify the kernel that we're ready.\n",
              "      channel.send({})\n",
              "\n",
              "      for await (const message of channel.messages) {\n",
              "        // Send a message to notify the kernel that we're ready.\n",
              "        channel.send({})\n",
              "        if (message.buffers) {\n",
              "          for (const buffer of message.buffers) {\n",
              "            buffers.push(buffer);\n",
              "            downloaded += buffer.byteLength;\n",
              "            progress.value = downloaded;\n",
              "          }\n",
              "        }\n",
              "      }\n",
              "      const blob = new Blob(buffers, {type: 'application/binary'});\n",
              "      const a = document.createElement('a');\n",
              "      a.href = window.URL.createObjectURL(blob);\n",
              "      a.download = filename;\n",
              "      div.appendChild(a);\n",
              "      a.click();\n",
              "      div.remove();\n",
              "    }\n",
              "  "
            ],
            "text/plain": [
              "<IPython.core.display.Javascript object>"
            ]
          },
          "metadata": {
            "tags": []
          }
        },
        {
          "output_type": "display_data",
          "data": {
            "application/javascript": [
              "download(\"download_eef95cb7-9641-437f-9485-af1408629683\", \"outputs.txt\", 7089768)"
            ],
            "text/plain": [
              "<IPython.core.display.Javascript object>"
            ]
          },
          "metadata": {
            "tags": []
          }
        }
      ]
    },
    {
      "cell_type": "markdown",
      "metadata": {
        "id": "G7BrMAa4zcC7",
        "colab_type": "text"
      },
      "source": [
        "##NEW CODE - SeqGAN implementation"
      ]
    },
    {
      "cell_type": "code",
      "metadata": {
        "id": "hGWs2msGddLg",
        "colab_type": "code",
        "colab": {}
      },
      "source": [
        "#Generator\n",
        "\n",
        "import matplotlib.pyplot as plt\n",
        "import torch\n",
        "import torch.autograd as autograd\n",
        "import torch.nn as nn\n",
        "import torch.nn.functional as F\n",
        "import numpy as np\n",
        "import pdb\n",
        "import math\n",
        "import torch.nn.init as init\n",
        "from math import ceil\n",
        "import numpy as np\n",
        "import sys\n",
        "import torch.optim as optim\n",
        "import pandas as pd"
      ],
      "execution_count": 184,
      "outputs": []
    },
    {
      "cell_type": "code",
      "metadata": {
        "id": "grt5UNBW6Chv",
        "colab_type": "code",
        "colab": {}
      },
      "source": [
        "url = 'https://raw.githubusercontent.com/preetham-v/antiviralGAN/master/AVPdb_data.csv'\n",
        "\n",
        "data = pd.read_csv(url, skiprows = 1, usecols = range(3), header=None, names=['ID','seq','len'])\n",
        "\n",
        "all_sequences = np.asarray(data['seq'])\n",
        "\n",
        "#Dictionary of 20 canonical amino acids\n",
        "CHARACTER_DICT = {\n",
        "    'A': 1, 'C': 2, 'E': 3, 'D': 4, 'F': 5, 'I': 6, 'H': 7, \n",
        "    'K': 8, 'M': 9, 'L': 10, 'N': 11, 'Q': 12, 'P': 13, 'S': 14, \n",
        "    'R': 15, 'T': 16, 'W': 17, 'V': 18, 'Y': 19, 'G': 20}\n",
        "\n",
        "INDEX_DICT = {\n",
        "    1: 'A', 2: 'C', 3: 'E', 4: 'D', 5: 'F', 6: 'I', 7: 'H',\n",
        "    8: 'K', 9: 'M', 10: 'L', 11: 'N', 12: 'Q', 13: 'P', 14: 'S',\n",
        "    15: 'R', 16: 'T', 17: 'W', 18: 'V', 19: 'Y', 20: 'G'}\n",
        "\n",
        "MAX_SEQUENCE_LENGTH = 18"
      ],
      "execution_count": 185,
      "outputs": []
    },
    {
      "cell_type": "code",
      "metadata": {
        "id": "EptLKy7U6V3F",
        "colab_type": "code",
        "colab": {}
      },
      "source": [
        "def sequence_to_vector(sequence, embed_dict=None):\n",
        "    if embed_dict==None:\n",
        "        default = np.asarray([21]*(MAX_SEQUENCE_LENGTH))\n",
        "#        default = np.asarray([21]*(MAX_SEQUENCE_LENGTH + 1))\n",
        "#        default[0] = 0\n",
        "        for i, character in enumerate(sequence[:MAX_SEQUENCE_LENGTH]):\n",
        "            default[i] = CHARACTER_DICT[character]\n",
        "#            default[i+1] = CHARACTER_DICT[character]\n",
        "        return default.astype(int)\n",
        "    else:\n",
        "        default = np.zeros([MAX_SEQUENCE_LENGTH,len(embed_dict['A'])])\n",
        "        for i, character in enumerate(sequence[:MAX_SEQUENCE_LENGTH]):\n",
        "            for k,val in enumerate(embed_dict[character]):\n",
        "                default[i,k] = val\n",
        "        return default\n",
        "\n",
        "def vector_to_sequence(vector):\n",
        "    seq = ''\n",
        "\n",
        "    for i in range(0,18):\n",
        "        arg = vector[i]\n",
        "        if arg == 21:\n",
        "          seq += 'X'\n",
        "        elif arg == 0:\n",
        "          seq += '0'\n",
        "        else:\n",
        "          seq += INDEX_DICT[arg]\n",
        "\n",
        "    return seq\n"
      ],
      "execution_count": 186,
      "outputs": []
    },
    {
      "cell_type": "code",
      "metadata": {
        "id": "DuUZiwOlAxIk",
        "colab_type": "code",
        "colab": {}
      },
      "source": [
        "all_sequences = np.asarray(data['seq'])\n",
        "\n",
        "all_data = []\n",
        "\n",
        "for i in range(len(all_sequences)):\n",
        "\n",
        "  all_data.append(sequence_to_vector(all_sequences[i]))"
      ],
      "execution_count": 187,
      "outputs": []
    },
    {
      "cell_type": "code",
      "metadata": {
        "id": "FeMYph9vEzBk",
        "colab_type": "code",
        "colab": {
          "base_uri": "https://localhost:8080/",
          "height": 35
        },
        "outputId": "41a9972b-b776-4dbd-f896-ecd98a226b79"
      },
      "source": [
        "print(all_data[0])"
      ],
      "execution_count": 102,
      "outputs": [
        {
          "output_type": "stream",
          "text": [
            "[13 19 18 20 14 20 10 19 15 15 21 21 21 21 21 21 21 21]\n"
          ],
          "name": "stdout"
        }
      ]
    },
    {
      "cell_type": "code",
      "metadata": {
        "id": "yvGgl0eizU6c",
        "colab_type": "code",
        "colab": {}
      },
      "source": [
        "class Generator(nn.Module):\n",
        "\n",
        "    def __init__(self, embedding_dim, hidden_dim, vocab_size, max_seq_len, gpu=False, oracle_init=False):\n",
        "        super(Generator, self).__init__()\n",
        "        self.hidden_dim = hidden_dim\n",
        "        self.embedding_dim = embedding_dim\n",
        "        self.max_seq_len = max_seq_len\n",
        "        self.vocab_size = vocab_size\n",
        "        self.gpu = gpu\n",
        "\n",
        "        self.embeddings = nn.Embedding(vocab_size, embedding_dim)\n",
        "        self.gru = nn.GRU(embedding_dim, hidden_dim)\n",
        "        self.gru2out = nn.Linear(hidden_dim, vocab_size)\n",
        "\n",
        "        # initialise oracle network with N(0,1)\n",
        "        # otherwise variance of initialisation is very small => high NLL for data sampled from the same model\n",
        "        if oracle_init:\n",
        "            for p in self.parameters():\n",
        "                init.normal(p, 0, 1)\n",
        "\n",
        "    def init_hidden(self, batch_size=1):\n",
        "        h = autograd.Variable(torch.zeros(1, batch_size, self.hidden_dim))\n",
        "\n",
        "        if self.gpu:\n",
        "            return h.cuda()\n",
        "        else:\n",
        "            return h\n",
        "\n",
        "    def forward(self, inp, hidden):\n",
        "        \"\"\"\n",
        "        Embeds input and applies GRU one token at a time (seq_len = 1)\n",
        "        \"\"\"\n",
        "        # input dim                                             # batch_size\n",
        "        emb = self.embeddings(inp)                              # batch_size x embedding_dim\n",
        "        emb = emb.view(1, -1, self.embedding_dim)               # 1 x batch_size x embedding_dim\n",
        "        out, hidden = self.gru(emb, hidden)                     # 1 x batch_size x hidden_dim (out)\n",
        "        out = self.gru2out(out.view(-1, self.hidden_dim))       # batch_size x vocab_size\n",
        "        out = F.log_softmax(out, dim=1)\n",
        "        return out, hidden\n",
        "\n",
        "    def sample(self, num_samples, start_letter=0):\n",
        "        \"\"\"\n",
        "        Samples the network and returns num_samples samples of length max_seq_len.\n",
        "        Outputs: samples, hidden\n",
        "            - samples: num_samples x max_seq_length (a sampled sequence in each row)\n",
        "        \"\"\"\n",
        "\n",
        "        samples = torch.zeros(num_samples, self.max_seq_len).type(torch.LongTensor)\n",
        "\n",
        "        h = self.init_hidden(num_samples)\n",
        "        inp = autograd.Variable(torch.LongTensor([start_letter]*num_samples))\n",
        "\n",
        "        if self.gpu:\n",
        "            samples = samples.cuda()\n",
        "            inp = inp.cuda()\n",
        "\n",
        "        for i in range(self.max_seq_len):\n",
        "            out, h = self.forward(inp, h)               # out: num_samples x vocab_size\n",
        "            out = torch.multinomial(torch.exp(out), 1)  # num_samples x 1 (sampling from each row)\n",
        "            samples[:, i] = out.view(-1).data\n",
        "\n",
        "            inp = out.view(-1)\n",
        "\n",
        "        return samples\n",
        "\n",
        "    def batchNLLLoss(self, inp, target):\n",
        "        \"\"\"\n",
        "        Returns the NLL Loss for predicting target sequence.\n",
        "        Inputs: inp, target\n",
        "            - inp: batch_size x seq_len\n",
        "            - target: batch_size x seq_len\n",
        "            inp should be target with <s> (start letter) prepended\n",
        "        \"\"\"\n",
        "\n",
        "        loss_fn = nn.NLLLoss()\n",
        "        batch_size, seq_len = inp.size()\n",
        "        inp = inp.permute(1, 0)           # seq_len x batch_size\n",
        "        target = target.permute(1, 0)     # seq_len x batch_size\n",
        "        h = self.init_hidden(batch_size)\n",
        "\n",
        "        loss = 0\n",
        "\n",
        "        for i in range(seq_len):\n",
        "            out, h = self.forward(inp[i], h)\n",
        "            loss += loss_fn(out, target[i])\n",
        "\n",
        "        return loss     # per batch\n",
        "\n",
        "    def batchPGLoss(self, inp, target, reward):\n",
        "        \"\"\"\n",
        "        Returns a pseudo-loss that gives corresponding policy gradients (on calling .backward()).\n",
        "        Inspired by the example in http://karpathy.github.io/2016/05/31/rl/\n",
        "        Inputs: inp, target\n",
        "            - inp: batch_size x seq_len\n",
        "            - target: batch_size x seq_len\n",
        "            - reward: batch_size (discriminator reward for each sentence, applied to each token of the corresponding\n",
        "                      sentence)\n",
        "            inp should be target with <s> (start letter) prepended\n",
        "        \"\"\"\n",
        "\n",
        "        batch_size, seq_len = inp.size()\n",
        "        inp = inp.permute(1, 0)          # seq_len x batch_size\n",
        "        target = target.permute(1, 0)    # seq_len x batch_size\n",
        "        h = self.init_hidden(batch_size)\n",
        "\n",
        "        loss = 0\n",
        "        for i in range(seq_len):\n",
        "            out, h = self.forward(inp[i], h)\n",
        "            # TODO: should h be detached from graph (.detach())?\n",
        "            for j in range(batch_size):\n",
        "                loss += -out[j][target.data[i][j]]*reward[j]     # log(P(y_t|Y_1:Y_{t-1})) * Q\n",
        "\n",
        "        return loss/batch_size"
      ],
      "execution_count": 188,
      "outputs": []
    },
    {
      "cell_type": "code",
      "metadata": {
        "id": "qr3pIMHP1Rlf",
        "colab_type": "code",
        "colab": {}
      },
      "source": [
        "class Discriminator(nn.Module):\n",
        "\n",
        "    def __init__(self, embedding_dim, hidden_dim, vocab_size, max_seq_len, gpu=False, dropout=0.2):\n",
        "        super(Discriminator, self).__init__()\n",
        "        self.hidden_dim = hidden_dim\n",
        "        self.embedding_dim = embedding_dim\n",
        "        self.max_seq_len = max_seq_len\n",
        "        self.gpu = gpu\n",
        "\n",
        "        self.embeddings = nn.Embedding(vocab_size, embedding_dim)\n",
        "        self.gru = nn.GRU(embedding_dim, hidden_dim, num_layers=2, bidirectional=True, dropout=dropout)\n",
        "        self.gru2hidden = nn.Linear(2*2*hidden_dim, hidden_dim)\n",
        "        self.dropout_linear = nn.Dropout(p=dropout)\n",
        "        self.hidden2out = nn.Linear(hidden_dim, 1)\n",
        "\n",
        "    def init_hidden(self, batch_size):\n",
        "        h = autograd.Variable(torch.zeros(2*2*1, batch_size, self.hidden_dim))\n",
        "\n",
        "        if self.gpu:\n",
        "            return h.cuda()\n",
        "        else:\n",
        "            return h\n",
        "\n",
        "    def forward(self, input, hidden):\n",
        "        # input dim                                                # batch_size x seq_len\n",
        "        emb = self.embeddings(input)                               # batch_size x seq_len x embedding_dim\n",
        "        emb = emb.permute(1, 0, 2)                                 # seq_len x batch_size x embedding_dim\n",
        "        _, hidden = self.gru(emb, hidden)                          # 4 x batch_size x hidden_dim\n",
        "        hidden = hidden.permute(1, 0, 2).contiguous()              # batch_size x 4 x hidden_dim\n",
        "        out = self.gru2hidden(hidden.view(-1, 4*self.hidden_dim))  # batch_size x 4*hidden_dim\n",
        "        out = torch.tanh(out)\n",
        "        out = self.dropout_linear(out)\n",
        "        out = self.hidden2out(out)                                 # batch_size x 1\n",
        "        out = torch.sigmoid(out)\n",
        "        return out\n",
        "\n",
        "    def batchClassify(self, inp):\n",
        "        \"\"\"\n",
        "        Classifies a batch of sequences.\n",
        "        Inputs: inp\n",
        "            - inp: batch_size x seq_len\n",
        "        Returns: out\n",
        "            - out: batch_size ([0,1] score)\n",
        "        \"\"\"\n",
        "\n",
        "        h = self.init_hidden(inp.size()[0])\n",
        "        out = self.forward(inp, h)\n",
        "        return out.view(-1)\n",
        "\n",
        "    def batchBCELoss(self, inp, target):\n",
        "        \"\"\"\n",
        "        Returns Binary Cross Entropy Loss for discriminator.\n",
        "         Inputs: inp, target\n",
        "            - inp: batch_size x seq_len\n",
        "            - target: batch_size (binary 1/0)\n",
        "        \"\"\"\n",
        "\n",
        "        loss_fn = nn.BCELoss()\n",
        "        h = self.init_hidden(inp.size()[0])\n",
        "        out = self.forward(inp, h)\n",
        "        return loss_fn(out, target)"
      ],
      "execution_count": 104,
      "outputs": []
    },
    {
      "cell_type": "code",
      "metadata": {
        "id": "vI9bydIE1e0U",
        "colab_type": "code",
        "colab": {}
      },
      "source": [
        "def prepare_generator_batch(samples, start_letter=0, gpu=False):\n",
        "    \"\"\"\n",
        "    Takes samples (a batch) and returns\n",
        "    Inputs: samples, start_letter, cuda\n",
        "        - samples: batch_size x seq_len (Tensor with a sample in each row)\n",
        "    Returns: inp, target\n",
        "        - inp: batch_size x seq_len (same as target, but with start_letter prepended)\n",
        "        - target: batch_size x seq_len (Variable same as samples)\n",
        "    \"\"\"\n",
        "\n",
        "    batch_size, seq_len = samples.size()\n",
        "\n",
        "    inp = torch.zeros(batch_size, seq_len)\n",
        "    target = samples\n",
        "    inp[:, 0] = start_letter\n",
        "    inp[:, 1:] = target[:, :seq_len-1]\n",
        "\n",
        "    inp = inp.type(torch.LongTensor)\n",
        "    target = target.type(torch.LongTensor)\n",
        "\n",
        "    if gpu:\n",
        "        inp = inp.cuda()\n",
        "        target = target.cuda()\n",
        "\n",
        "    return inp, target\n",
        "\n",
        "\n",
        "def prepare_discriminator_data(pos_samples, neg_samples, gpu=False):\n",
        "    \"\"\"\n",
        "    Takes positive (target) samples, negative (generator) samples and \n",
        "    prepares inp and target data for discriminator.\n",
        "    Inputs: pos_samples, neg_samples\n",
        "        - pos_samples: pos_size x seq_len\n",
        "        - neg_samples: neg_size x seq_len\n",
        "    Returns: inp, target\n",
        "        - inp: (pos_size + neg_size) x seq_len\n",
        "        - target: pos_size + neg_size (boolean 1/0)\n",
        "    \"\"\"\n",
        "\n",
        "    inp = torch.cat((pos_samples, neg_samples), 0).type(torch.LongTensor)\n",
        "    target = torch.ones(pos_samples.size()[0] + neg_samples.size()[0])\n",
        "    target[pos_samples.size()[0]:] = 0\n",
        "\n",
        "    # shuffle\n",
        "    perm = torch.randperm(target.size()[0])\n",
        "    target = target[perm]\n",
        "    inp = inp[perm]\n",
        "\n",
        "#    inp = Variable(inp)\n",
        "#    target = Variable(target)\n",
        "\n",
        "    if gpu:\n",
        "        inp = inp.cuda()\n",
        "        target = target.cuda()\n",
        "\n",
        "    return inp, target\n",
        "\n",
        "\n",
        "def batchwise_sample(gen, num_samples, batch_size):\n",
        "    \"\"\"\n",
        "    Sample num_samples samples batch_size samples at a time from gen.\n",
        "    Does not require gpu since gen.sample() takes care of that.\n",
        "    \"\"\"\n",
        "\n",
        "    samples = []\n",
        "    for i in range(int(ceil(num_samples/float(batch_size)))):\n",
        "        samples.append(gen.sample(batch_size))\n",
        "\n",
        "    return torch.cat(samples, 0)[:num_samples]\n",
        "\n",
        "def batchwise_oracle_nll(gen, oracle, num_samples, batch_size, max_seq_len, start_letter=0, gpu=False):\n",
        "    s = batchwise_sample(gen, num_samples, batch_size)\n",
        "    oracle_nll = 0\n",
        "    for i in range(0, num_samples, batch_size):\n",
        "        inp, target = prepare_generator_batch(s[i:i+batch_size], start_letter, gpu)\n",
        "        oracle_loss = oracle.batchNLLLoss(inp, target) / max_seq_len\n",
        "        oracle_nll += oracle_loss.data.item()\n",
        "\n",
        "    return oracle_nll/(num_samples/batch_size)"
      ],
      "execution_count": 105,
      "outputs": []
    },
    {
      "cell_type": "code",
      "metadata": {
        "id": "HXoe3ru3Z5C0",
        "colab_type": "code",
        "colab": {
          "base_uri": "https://localhost:8080/",
          "height": 73
        },
        "outputId": "634ebf10-972f-41e6-c431-39311c23a537"
      },
      "source": [
        "gen = Generator(3, 32, 21, 19, False, True)\n",
        "a = batchwise_sample(gen, 100, 20)\n",
        "print(a.shape)"
      ],
      "execution_count": 111,
      "outputs": [
        {
          "output_type": "stream",
          "text": [
            "torch.Size([100, 19])\n"
          ],
          "name": "stdout"
        },
        {
          "output_type": "stream",
          "text": [
            "/usr/local/lib/python3.6/dist-packages/ipykernel_launcher.py:19: UserWarning: nn.init.normal is now deprecated in favor of nn.init.normal_.\n"
          ],
          "name": "stderr"
        }
      ]
    },
    {
      "cell_type": "code",
      "metadata": {
        "id": "OsiTcSyy1iyr",
        "colab_type": "code",
        "colab": {}
      },
      "source": [
        "CUDA = False\n",
        "VOCAB_SIZE = 22\n",
        "MAX_SEQ_LEN = 19\n",
        "START_LETTER = 0\n",
        "BATCH_SIZE = 32\n",
        "MLE_TRAIN_EPOCHS = 100\n",
        "ADV_TRAIN_EPOCHS = 50\n",
        "POS_NEG_SAMPLES = 2059\n",
        "\n",
        "GEN_EMBEDDING_DIM = 32\n",
        "GEN_HIDDEN_DIM = 20\n",
        "DIS_EMBEDDING_DIM = 32\n",
        "DIS_HIDDEN_DIM = 20"
      ],
      "execution_count": 107,
      "outputs": []
    },
    {
      "cell_type": "code",
      "metadata": {
        "id": "bJi2eS9t2BeI",
        "colab_type": "code",
        "colab": {}
      },
      "source": [
        "def train_generator_MLE(gen, gen_opt, oracle, real_data_samples, epochs):\n",
        "    \"\"\"\n",
        "    Max Likelihood Pretraining for the generator\n",
        "    \"\"\"\n",
        "    for epoch in range(epochs):\n",
        "        print('epoch %d : ' % (epoch + 1), end='')\n",
        "        sys.stdout.flush()\n",
        "        total_loss = 0\n",
        "\n",
        "        for i in range(0, POS_NEG_SAMPLES, BATCH_SIZE):\n",
        "            inp, target = prepare_generator_batch(real_data_samples[i:i + BATCH_SIZE], start_letter=START_LETTER,\n",
        "                                                          gpu=CUDA)\n",
        "            gen_opt.zero_grad()\n",
        "            loss = gen.batchNLLLoss(inp, target)\n",
        "            loss.backward()\n",
        "            gen_opt.step()\n",
        "\n",
        "            total_loss += loss.data.item()\n",
        "\n",
        "            if (i / BATCH_SIZE) % ceil(\n",
        "                            ceil(POS_NEG_SAMPLES / float(BATCH_SIZE)) / 10.) == 0:  # roughly every 10% of an epoch\n",
        "                print('.', end='')\n",
        "                sys.stdout.flush()\n",
        "\n",
        "        # each loss in a batch is loss per sample\n",
        "        total_loss = total_loss / ceil(POS_NEG_SAMPLES / float(BATCH_SIZE)) / MAX_SEQ_LEN\n",
        "\n",
        "        # sample from generator and compute oracle NLL\n",
        "        oracle_loss = batchwise_oracle_nll(gen, oracle, POS_NEG_SAMPLES, BATCH_SIZE, MAX_SEQ_LEN,\n",
        "                                                   start_letter=START_LETTER, gpu=CUDA)\n",
        "\n",
        "        print(' average_train_NLL = %.4f, oracle_sample_NLL = %.4f' % (total_loss, oracle_loss))\n",
        "\n",
        "\n",
        "def train_generator_PG(gen, gen_opt, oracle, dis, num_batches):\n",
        "    \"\"\"\n",
        "    The generator is trained using policy gradients, using the reward from the discriminator.\n",
        "    Training is done for num_batches batches.\n",
        "    \"\"\"\n",
        "\n",
        "    for batch in range(num_batches):\n",
        "        s = gen.sample(BATCH_SIZE*2)        # 64 works best\n",
        "        inp, target = prepare_generator_batch(s, start_letter=START_LETTER, gpu=CUDA)\n",
        "        rewards = dis.batchClassify(target)\n",
        "\n",
        "        gen_opt.zero_grad()\n",
        "        pg_loss = gen.batchPGLoss(inp, target, rewards)\n",
        "        pg_loss.backward()\n",
        "        gen_opt.step()\n",
        "\n",
        "    # sample from generator and compute oracle NLL\n",
        "    oracle_loss = batchwise_oracle_nll(gen, oracle, POS_NEG_SAMPLES, BATCH_SIZE, MAX_SEQ_LEN,\n",
        "                                                   start_letter=START_LETTER, gpu=CUDA)\n",
        "\n",
        "    print(' oracle_sample_NLL = %.4f' % oracle_loss)\n"
      ],
      "execution_count": 108,
      "outputs": []
    },
    {
      "cell_type": "code",
      "metadata": {
        "id": "9nFTuxWK2fn-",
        "colab_type": "code",
        "colab": {}
      },
      "source": [
        "def train_discriminator(discriminator, dis_opt, real_data_samples, generator, oracle, d_steps, epochs):\n",
        "    \"\"\"\n",
        "    Training the discriminator on real_data_samples (positive) and generated samples from generator (negative).\n",
        "    Samples are drawn d_steps times, and the discriminator is trained for epochs epochs.\n",
        "    \"\"\"\n",
        "\n",
        "    # generating a small validation set before training (using oracle and generator)\n",
        "    pos_val = oracle.sample(100)\n",
        "    neg_val = generator.sample(100)\n",
        "    val_inp, val_target = prepare_discriminator_data(pos_val, neg_val, gpu=CUDA)\n",
        "\n",
        "    for d_step in range(d_steps):\n",
        "        s = batchwise_sample(generator, POS_NEG_SAMPLES, BATCH_SIZE)\n",
        "#        print(s.shape, real_data_samples.shape)\n",
        "        dis_inp, dis_target = prepare_discriminator_data(real_data_samples, s, gpu=CUDA)\n",
        "        for epoch in range(epochs):\n",
        "            print('d-step %d epoch %d : ' % (d_step + 1, epoch + 1), end='')\n",
        "            sys.stdout.flush()\n",
        "            total_loss = 0\n",
        "            total_acc = 0\n",
        "\n",
        "            for i in range(0, 2 * POS_NEG_SAMPLES, BATCH_SIZE): #2 * POS_NEG_SAMPLES because both pos \n",
        "                                                                #and neg samples included in dis_inp\n",
        "                inp, target = dis_inp[i:i + BATCH_SIZE], dis_target[i:i + BATCH_SIZE]\n",
        "                dis_opt.zero_grad()\n",
        "                out = discriminator.batchClassify(inp)\n",
        "                loss_fn = nn.BCELoss()\n",
        "                loss = loss_fn(out, target)\n",
        "                loss.backward()\n",
        "                dis_opt.step()\n",
        "\n",
        "                total_loss += loss.data.item()\n",
        "                total_acc += torch.sum((out>0.5)==(target>0.5)).data.item()\n",
        "\n",
        "                if (i / BATCH_SIZE) % ceil(ceil(2 * POS_NEG_SAMPLES / float(\n",
        "                        BATCH_SIZE)) / 10.) == 0:  # roughly every 10% of an epoch\n",
        "                    print('.', end='')\n",
        "                    sys.stdout.flush()\n",
        "\n",
        "            total_loss /= ceil(2 * POS_NEG_SAMPLES / float(BATCH_SIZE))\n",
        "            total_acc /= float(2 * POS_NEG_SAMPLES)\n",
        "\n",
        "            val_pred = discriminator.batchClassify(val_inp)\n",
        "            print(' average_loss = %.4f, train_acc = %.4f, val_acc = %.4f' % (\n",
        "                total_loss, total_acc, torch.sum((val_pred>0.5)==(val_target>0.5)).data.item()/200.))\n"
      ],
      "execution_count": 116,
      "outputs": []
    },
    {
      "cell_type": "code",
      "metadata": {
        "id": "zclPsKwXWiJ3",
        "colab_type": "code",
        "colab": {
          "base_uri": "https://localhost:8080/",
          "height": 305
        },
        "outputId": "c35519c7-a93f-415a-8513-11cb71f8f80f"
      },
      "source": [
        "inp, target = prepare_generator_batch(torch.Tensor(all_data))\n",
        "dis = Discriminator(DIS_EMBEDDING_DIM, DIS_HIDDEN_DIM, VOCAB_SIZE, MAX_SEQ_LEN, gpu=CUDA)\n",
        "dis_optimizer = optim.Adagrad(dis.parameters())\n",
        "gen = Generator(GEN_EMBEDDING_DIM, GEN_HIDDEN_DIM, VOCAB_SIZE, MAX_SEQ_LEN, gpu=CUDA, oracle_init=True)\n",
        "oracle = Generator(GEN_EMBEDDING_DIM, GEN_HIDDEN_DIM, VOCAB_SIZE, MAX_SEQ_LEN, gpu=CUDA)\n",
        "train_discriminator(dis, dis_optimizer, target, gen, oracle, 100, 2)"
      ],
      "execution_count": 125,
      "outputs": [
        {
          "output_type": "stream",
          "text": [
            ".... average_loss = 0.0089, train_acc = 0.9981, val_acc = 0.9850\n",
            "d-step 93 epoch 2 : .... average_loss = 0.0075, train_acc = 0.9981, val_acc = 0.9950\n",
            "d-step 94 epoch 1 : .... average_loss = 0.0079, train_acc = 0.9973, val_acc = 0.9900\n",
            "d-step 94 epoch 2 : .... average_loss = 0.0084, train_acc = 0.9973, val_acc = 0.9850\n",
            "d-step 95 epoch 1 : .... average_loss = 0.0053, train_acc = 0.9988, val_acc = 0.9900\n",
            "d-step 95 epoch 2 : .... average_loss = 0.0059, train_acc = 0.9988, val_acc = 0.9900\n",
            "d-step 96 epoch 1 : .... average_loss = 0.0069, train_acc = 0.9976, val_acc = 0.9900\n",
            "d-step 96 epoch 2 : .... average_loss = 0.0065, train_acc = 0.9978, val_acc = 0.9900\n",
            "d-step 97 epoch 1 : .... average_loss = 0.0107, train_acc = 0.9971, val_acc = 0.9900\n",
            "d-step 97 epoch 2 : .... average_loss = 0.0117, train_acc = 0.9971, val_acc = 0.9900\n",
            "d-step 98 epoch 1 : .... average_loss = 0.0100, train_acc = 0.9968, val_acc = 0.9900\n",
            "d-step 98 epoch 2 : .... average_loss = 0.0097, train_acc = 0.9971, val_acc = 0.9900\n",
            "d-step 99 epoch 1 : .... average_loss = 0.0107, train_acc = 0.9973, val_acc = 0.9900\n",
            "d-step 99 epoch 2 : .... average_loss = 0.0100, train_acc = 0.9966, val_acc = 0.9900\n",
            "d-step 100 epoch 1 : .... average_loss = 0.0120, train_acc = 0.9964, val_acc = 0.9900\n",
            "d-step 100 epoch 2 : .... average_loss = 0.0101, train_acc = 0.9964, val_acc = 0.9900\n"
          ],
          "name": "stdout"
        }
      ]
    },
    {
      "cell_type": "code",
      "metadata": {
        "id": "ik6kKYPcBhm1",
        "colab_type": "code",
        "colab": {}
      },
      "source": [
        "CUDA = False\n",
        "VOCAB_SIZE = 22\n",
        "MAX_SEQ_LEN = 18\n",
        "START_LETTER = 0\n",
        "BATCH_SIZE = 1030\n",
        "MLE_TRAIN_EPOCHS = 50\n",
        "ADV_TRAIN_EPOCHS = 50\n",
        "POS_NEG_SAMPLES = 2059\n",
        "\n",
        "GEN_EMBEDDING_DIM = 3\n",
        "GEN_HIDDEN_DIM = 32\n",
        "DIS_EMBEDDING_DIM = 3            \n",
        "DIS_HIDDEN_DIM = 32\n",
        "\n",
        "D_STEPS = 25\n",
        "D_EPOCHS = 2"
      ],
      "execution_count": 152,
      "outputs": []
    },
    {
      "cell_type": "code",
      "metadata": {
        "id": "_y8IoAPo2ktX",
        "colab_type": "code",
        "colab": {
          "base_uri": "https://localhost:8080/",
          "height": 55
        },
        "outputId": "f2ef138b-a876-49a9-f552-b60be9788f03"
      },
      "source": [
        "%%capture cap --no-stderr\n",
        "# MAIN\n",
        "if __name__ == '__main__':\n",
        "\n",
        "    oracle = Generator(GEN_EMBEDDING_DIM, GEN_HIDDEN_DIM, VOCAB_SIZE, MAX_SEQ_LEN, gpu=CUDA, oracle_init=True)\n",
        "    # a new oracle can be generated by passing oracle_init=True in the generator constructor\n",
        "    # samples for the new oracle can be generated using batchwise_sample()\n",
        "\n",
        "    gen = Generator(GEN_EMBEDDING_DIM, GEN_HIDDEN_DIM, VOCAB_SIZE, MAX_SEQ_LEN, gpu=CUDA)\n",
        "    dis = Discriminator(DIS_EMBEDDING_DIM, DIS_HIDDEN_DIM, VOCAB_SIZE, MAX_SEQ_LEN, gpu=CUDA)\n",
        "\n",
        "    # if CUDA:\n",
        "    #   oracle = oracle.cuda()\n",
        "    #   gen = gen.cuda()\n",
        "    #   dis = dis.cuda()\n",
        "    #   oracle_samples = oracle_samples.cuda()\n",
        "\n",
        "    oracle_samples = torch.Tensor(all_data)\n",
        "\n",
        "    # GENERATOR MLE TRAINING\n",
        "    print('Starting Generator MLE Training...')\n",
        "    gen_optimizer = optim.Adam(gen.parameters(), lr=1e-2)\n",
        "    train_generator_MLE(gen, gen_optimizer, oracle, torch.Tensor(all_data), MLE_TRAIN_EPOCHS)\n",
        "\n",
        "    # torch.save(gen.state_dict(), pretrained_gen_path)\n",
        "    # gen.load_state_dict(torch.load(pretrained_gen_path))\n",
        "\n",
        "    # PRETRAIN DISCRIMINATOR\n",
        "    print('\\nStarting Discriminator Training...')\n",
        "    dis_optimizer = optim.Adagrad(dis.parameters())\n",
        "    train_discriminator(dis, dis_optimizer, oracle_samples, gen, oracle, D_STEPS, D_EPOCHS)\n",
        "\n",
        "    # ADVERSARIAL TRAINING\n",
        "    print('\\nStarting Adversarial Training...')\n",
        "    oracle_loss = batchwise_oracle_nll(gen, oracle, POS_NEG_SAMPLES, BATCH_SIZE, MAX_SEQ_LEN,\n",
        "                                               start_letter=START_LETTER, gpu=CUDA)\n",
        "    print('\\nInitial Oracle Sample Loss : %.4f' % oracle_loss)\n",
        "\n",
        "    for epoch in range(ADV_TRAIN_EPOCHS):\n",
        "        print('\\n--------\\nEPOCH %d\\n--------' % (epoch+1))\n",
        "        # TRAIN GENERATOR\n",
        "        print('\\nAdversarial Training Generator : ', end='')\n",
        "        sys.stdout.flush()\n",
        "        train_generator_PG(gen, gen_optimizer, oracle, dis, 1)\n",
        "\n",
        "        # TRAIN DISCRIMINATOR\n",
        "        print('\\nAdversarial Training Discriminator : ')\n",
        "        train_discriminator(dis, dis_optimizer, oracle_samples, gen, oracle, 5, 3)"
      ],
      "execution_count": 153,
      "outputs": [
        {
          "output_type": "stream",
          "text": [
            "/usr/local/lib/python3.6/dist-packages/ipykernel_launcher.py:19: UserWarning: nn.init.normal is now deprecated in favor of nn.init.normal_.\n"
          ],
          "name": "stderr"
        }
      ]
    },
    {
      "cell_type": "code",
      "metadata": {
        "id": "4hU8zk3o2wbU",
        "colab_type": "code",
        "colab": {}
      },
      "source": [
        "a = gen.sample(25).tolist()"
      ],
      "execution_count": 160,
      "outputs": []
    },
    {
      "cell_type": "code",
      "metadata": {
        "id": "_Fmpv0lmfGof",
        "colab_type": "code",
        "colab": {
          "base_uri": "https://localhost:8080/",
          "height": 467
        },
        "outputId": "af16d569-d721-428b-eec1-7ad87611fff3"
      },
      "source": [
        "for i in range(25):\n",
        "  print(vector_to_sequence(a[i]))"
      ],
      "execution_count": 162,
      "outputs": [
        {
          "output_type": "stream",
          "text": [
            "KKTADNHSTHTVLAXXXX\n",
            "RWRGGRTRAQIGEDHXXX\n",
            "LGALGSGPLLRIVGLKLT\n",
            "DEPFTPPAVVDALYEATL\n",
            "TRCALAKARNYLFQDFNE\n",
            "MFALPHAPWELQIRLLAK\n",
            "MRRRELNKRAAGGLELKR\n",
            "RSKHLLIGGGNDXXXXXX\n",
            "GLVAAGHWXXXXXXXXXX\n",
            "ARQIRRFWVLNARSXXXX\n",
            "LIRNAIRVLGRKVTAAAV\n",
            "GRSLDAFNLSYQAEARKX\n",
            "CQLINVGSSNINAMVDXX\n",
            "DDRCNTQEVEFIEKAALA\n",
            "PIESQTWNAXXXXXXXXX\n",
            "VSPKXXXXXXXXXXXXXX\n",
            "SDLGARDEHTXXXXXXXX\n",
            "ELEKEERKVALWTFTYAL\n",
            "GPKMLETNVLDFTVGDFP\n",
            "LIGHRIMVFWKSCKSXXX\n",
            "AKVHSHALAALLXXXXXX\n",
            "LFTTLKNNPALXXXXXXX\n",
            "DKEAVTDVRNASTVXXXX\n",
            "FTRRKKKKAXXXXXXXXX\n",
            "VHVTACLGTQDMAEELXX\n"
          ],
          "name": "stdout"
        }
      ]
    },
    {
      "cell_type": "code",
      "metadata": {
        "id": "_vPKOBIsfHU-",
        "colab_type": "code",
        "colab": {}
      },
      "source": [
        "with open('output.txt', 'w') as f:\n",
        "    f.write(cap.stdout)"
      ],
      "execution_count": 159,
      "outputs": []
    },
    {
      "cell_type": "code",
      "metadata": {
        "id": "y7kAuBfImGd0",
        "colab_type": "code",
        "colab": {}
      },
      "source": [
        "import re\n",
        "\n",
        "file1 = open('output.txt', 'r') \n",
        "lines = file1.readlines() \n",
        "\n",
        "loss_g = []\n",
        "loss_d = []\n",
        "\n",
        "for line in lines:\n",
        "\n",
        "  reg_lossg = re.search('oracle_sample_NLL = ([-+]?[0-9]*\\.?[0-9]+)', line)\n",
        "  reg_lossd = re.search('average_loss = ([-+]?[0-9]*\\.?[0-9]+)', line)  \n",
        "  if reg_lossg:\n",
        "    loss_g.append(float(reg_lossg.group(1)))\n",
        "  if reg_lossd:\n",
        "    loss_d.append(float(reg_lossd.group(1)))"
      ],
      "execution_count": 179,
      "outputs": []
    },
    {
      "cell_type": "code",
      "metadata": {
        "id": "fKHI3oUu755P",
        "colab_type": "code",
        "colab": {
          "base_uri": "https://localhost:8080/",
          "height": 283
        },
        "outputId": "1c552bee-2e31-4cea-8617-7606e6df1e55"
      },
      "source": [
        "plt.plot(loss_g)"
      ],
      "execution_count": 183,
      "outputs": [
        {
          "output_type": "execute_result",
          "data": {
            "text/plain": [
              "[<matplotlib.lines.Line2D at 0x7f1962b65ba8>]"
            ]
          },
          "metadata": {
            "tags": []
          },
          "execution_count": 183
        },
        {
          "output_type": "display_data",
          "data": {
            "image/png": "[encoded data removed]",
            "text/plain": [
              "<Figure size 432x288 with 1 Axes>"
            ]
          },
          "metadata": {
            "tags": [],
            "needs_background": "light"
          }
        }
      ]
    },
    {
      "cell_type": "code",
      "metadata": {
        "id": "KBV5pqLg_pna",
        "colab_type": "code",
        "colab": {}
      },
      "source": [
        ""
      ],
      "execution_count": null,
      "outputs": []
    }
  ]
}